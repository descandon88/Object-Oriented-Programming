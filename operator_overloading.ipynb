{
  "nbformat": 4,
  "nbformat_minor": 0,
  "metadata": {
    "colab": {
      "provenance": [],
      "authorship_tag": "ABX9TyPPnoywY5bu3Jvu9KMjnoe9",
      "include_colab_link": true
    },
    "kernelspec": {
      "name": "python3",
      "display_name": "Python 3"
    },
    "language_info": {
      "name": "python"
    }
  },
  "cells": [
    {
      "cell_type": "markdown",
      "metadata": {
        "id": "view-in-github",
        "colab_type": "text"
      },
      "source": [
        "<a href=\"https://colab.research.google.com/github/descandon88/Object-Oriented-Programming/blob/main/operator_overloading.ipynb\" target=\"_parent\"><img src=\"https://colab.research.google.com/assets/colab-badge.svg\" alt=\"Open In Colab\"/></a>"
      ]
    },
    {
      "cell_type": "code",
      "execution_count": 19,
      "metadata": {
        "id": "VF33REd19MGK"
      },
      "outputs": [],
      "source": [
        "import numpy as np\n",
        "import pandas as np\n"
      ]
    },
    {
      "cell_type": "code",
      "source": [
        "\"Operadores comparativos\"\n",
        "\"== __eq__()\"\n",
        "\"!=  __ne__()\"\n",
        "\">= __ge__()\"\n",
        "\"<= __le__()\"\n",
        "\">  __gt__()\"\n",
        "\"<  __lt__()\""
      ],
      "metadata": {
        "colab": {
          "base_uri": "https://localhost:8080/",
          "height": 36
        },
        "id": "FkDAZhAPDMYz",
        "outputId": "c5d0a362-e273-4d1a-c34b-1673c3cc83ff"
      },
      "execution_count": 20,
      "outputs": [
        {
          "output_type": "execute_result",
          "data": {
            "text/plain": [
              "'<  __lt__()'"
            ],
            "application/vnd.google.colaboratory.intrinsic+json": {
              "type": "string"
            }
          },
          "metadata": {},
          "execution_count": 20
        }
      ]
    },
    {
      "cell_type": "code",
      "source": [
        "class Customer: \n",
        "  def __init__(self, name, balance, id):\n",
        "    self.name, self.balance = name, balance\n",
        "    self.id = id"
      ],
      "metadata": {
        "id": "kCWERlRJ9Uqd"
      },
      "execution_count": 3,
      "outputs": []
    },
    {
      "cell_type": "code",
      "source": [
        "customer1 = Customer(\"Nicolás Enriquez\", 3000, 232)\n",
        "customer2 = Customer(\"Nicolás Enriquez\", 3000, 232)"
      ],
      "metadata": {
        "id": "HxbEdp8P9fWL"
      },
      "execution_count": 6,
      "outputs": []
    },
    {
      "cell_type": "code",
      "source": [
        "customer1 == customer2"
      ],
      "metadata": {
        "colab": {
          "base_uri": "https://localhost:8080/"
        },
        "id": "9VFgBsvu90is",
        "outputId": "9d5467ce-1059-4e1d-fe35-c5cac2bb2c2b"
      },
      "execution_count": 7,
      "outputs": [
        {
          "output_type": "execute_result",
          "data": {
            "text/plain": [
              "False"
            ]
          },
          "metadata": {},
          "execution_count": 7
        }
      ]
    },
    {
      "cell_type": "code",
      "source": [
        "print(customer1)"
      ],
      "metadata": {
        "colab": {
          "base_uri": "https://localhost:8080/"
        },
        "id": "UTzd55bn92uj",
        "outputId": "05c4a6a2-2964-4239-9f94-4a818e86264d"
      },
      "execution_count": 8,
      "outputs": [
        {
          "output_type": "stream",
          "name": "stdout",
          "text": [
            "<__main__.Customer object at 0x7f0966bad580>\n"
          ]
        }
      ]
    },
    {
      "cell_type": "code",
      "source": [
        "print(customer2)"
      ],
      "metadata": {
        "colab": {
          "base_uri": "https://localhost:8080/"
        },
        "id": "5O3nlRco97Pb",
        "outputId": "b356c274-fbfb-41e8-df50-9e40b13c3550"
      },
      "execution_count": 9,
      "outputs": [
        {
          "output_type": "stream",
          "name": "stdout",
          "text": [
            "<__main__.Customer object at 0x7f0966badaf0>\n"
          ]
        }
      ]
    },
    {
      "cell_type": "code",
      "source": [
        "## Dos arreglos diferentes que contienen la misma data\n",
        "arr1 = np.Array([32,32,4],[])"
      ],
      "metadata": {
        "id": "OoKzKV3r981j"
      },
      "execution_count": null,
      "outputs": []
    },
    {
      "cell_type": "markdown",
      "source": [
        "# Overloading \"_ _eq_ _()\""
      ],
      "metadata": {
        "id": "GCnNr_Qg-Rkh"
      }
    },
    {
      "cell_type": "code",
      "source": [
        "class Customer: \n",
        "  def __init__(self, name, id):\n",
        "    self.name, self.id = name, id\n",
        "  # Will be called when == is used\n",
        "  def __eq__(self,other):\n",
        "    print(\"__eq__() is called\")\n",
        "    # retorna True si todos los atributos son iguales\n",
        "    return ( self.id == other.id) and (self.name == \n",
        "                                        other.name)\n",
        "  "
      ],
      "metadata": {
        "id": "jhRvJg7K-YTq"
      },
      "execution_count": 12,
      "outputs": []
    },
    {
      "cell_type": "code",
      "source": [
        "## 2 objetos iguales\n",
        "\n",
        "customer1 = Customer(\"Luis Sandoval\", 458)\n",
        "customer2 = Customer(\"Luis Sandoval\", 458)\n",
        "customer1==customer2"
      ],
      "metadata": {
        "colab": {
          "base_uri": "https://localhost:8080/"
        },
        "id": "RDF-2wJs-UpT",
        "outputId": "c134bbfd-d0f5-4fd2-a971-a6ced738a196"
      },
      "execution_count": 17,
      "outputs": [
        {
          "output_type": "stream",
          "name": "stdout",
          "text": [
            "__eq__() is called\n"
          ]
        },
        {
          "output_type": "execute_result",
          "data": {
            "text/plain": [
              "True"
            ]
          },
          "metadata": {},
          "execution_count": 17
        }
      ]
    },
    {
      "cell_type": "code",
      "source": [
        "## 2 objetos diferentes id\n",
        "\n",
        "customer1 = Customer(\"Luis Sandoval\", 3589)\n",
        "customer2 = Customer(\"Luis Sandoval\", 458)\n",
        "customer1==customer2"
      ],
      "metadata": {
        "colab": {
          "base_uri": "https://localhost:8080/"
        },
        "id": "FBKwYzC4A-PS",
        "outputId": "061ed127-d5d8-4b0b-ad40-b364ba6f87e6"
      },
      "execution_count": 18,
      "outputs": [
        {
          "output_type": "stream",
          "name": "stdout",
          "text": [
            "__eq__() is called\n"
          ]
        },
        {
          "output_type": "execute_result",
          "data": {
            "text/plain": [
              "False"
            ]
          },
          "metadata": {},
          "execution_count": 18
        }
      ]
    },
    {
      "cell_type": "code",
      "source": [],
      "metadata": {
        "id": "VUvuerRVA5tC"
      },
      "execution_count": null,
      "outputs": []
    },
    {
      "cell_type": "markdown",
      "source": [
        "#Comparison and inheritance\n"
      ],
      "metadata": {
        "id": "2QBH50TwKHG5"
      }
    },
    {
      "cell_type": "code",
      "source": [
        "class Parent:\n",
        "    def __eq__(self, other):\n",
        "        print(\"Parent's __eq__() called\")\n",
        "        return True\n",
        "\n",
        "class Child(Parent):\n",
        "    def __eq__(self, other):\n",
        "        print(\"Child's __eq__() called\")\n",
        "        return True"
      ],
      "metadata": {
        "id": "Iot66EMbAyys"
      },
      "execution_count": 22,
      "outputs": []
    },
    {
      "cell_type": "code",
      "source": [
        "p = Parent()\n",
        "c = Child()\n",
        "\n",
        "p == c "
      ],
      "metadata": {
        "colab": {
          "base_uri": "https://localhost:8080/"
        },
        "id": "rxtutjLqKYc_",
        "outputId": "04531144-86fd-4ef4-e537-313a2f25577a"
      },
      "execution_count": 23,
      "outputs": [
        {
          "output_type": "stream",
          "name": "stdout",
          "text": [
            "Child's __eq__() called\n"
          ]
        },
        {
          "output_type": "execute_result",
          "data": {
            "text/plain": [
              "True"
            ]
          },
          "metadata": {},
          "execution_count": 23
        }
      ]
    }
  ]
}